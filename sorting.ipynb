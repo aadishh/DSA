{
 "cells": [
  {
   "cell_type": "markdown",
   "metadata": {},
   "source": [
    "Sorting Algorithms"
   ]
  },
  {
   "cell_type": "markdown",
   "metadata": {},
   "source": [
    "Bubble Sort is also known as Sinking Sort. \n",
    "\n",
    "Traverse from left and compare adjacent elements and the higher one is placed at right side. \n",
    "\n",
    "In this way, the largest element is moved to the rightmost end at first. \n",
    "\n",
    "This process is then continued to find the second largest and place it and so on until the data is sorted."
   ]
  },
  {
   "cell_type": "code",
   "execution_count": 6,
   "metadata": {},
   "outputs": [
    {
     "name": "stdout",
     "output_type": "stream",
     "text": [
      "[10, 20, 50, 60, 90, 100, 10000]\n"
     ]
    }
   ],
   "source": [
    "my_list = [10,90,50,60,20,100,10000]\n",
    "n = len(my_list)\n",
    "for i in range(n):\n",
    "    for j in range(0,n-i-1):\n",
    "        if my_list[j] > my_list[j+1]:\n",
    "            my_list[j], my_list[j+1] = my_list[j+1], my_list[j] # swapping\n",
    "\n",
    "print(my_list)\n",
    "\n",
    "# time complexcity = O(n^2) \n",
    "        \n"
   ]
  },
  {
   "cell_type": "markdown",
   "metadata": {},
   "source": [
    "Selection Sort : \n",
    "The algorithm repeatedly selects the smallest (or largest) element from the unsorted portion of the list and swaps it with the first element of the unsorted part. This process is repeated for the remaining unsorted portion until the entire list is sorted. \n"
   ]
  },
  {
   "cell_type": "code",
   "execution_count": 8,
   "metadata": {},
   "outputs": [
    {
     "name": "stdout",
     "output_type": "stream",
     "text": [
      "[100, 200, 400, 600]\n"
     ]
    }
   ],
   "source": [
    "my_list2 = [100,600, 400, 200]\n",
    "n = len(my_list2)\n",
    "for i in range(n):\n",
    "    # Find the minimum element in the unsorted part of the list\n",
    "    min_index = i\n",
    "    for j in range(i + 1, n):\n",
    "        if my_list2[j] < my_list2[min_index]:\n",
    "            min_index = j\n",
    "\n",
    "    # Swap the found minimum element with the first element\n",
    "    my_list2[i], my_list2[min_index] = my_list2[min_index], my_list2[i]\n",
    "\n",
    "print(my_list2)"
   ]
  }
 ],
 "metadata": {
  "kernelspec": {
   "display_name": "Python 3",
   "language": "python",
   "name": "python3"
  },
  "language_info": {
   "codemirror_mode": {
    "name": "ipython",
    "version": 3
   },
   "file_extension": ".py",
   "mimetype": "text/x-python",
   "name": "python",
   "nbconvert_exporter": "python",
   "pygments_lexer": "ipython3",
   "version": "3.11.6"
  }
 },
 "nbformat": 4,
 "nbformat_minor": 2
}
